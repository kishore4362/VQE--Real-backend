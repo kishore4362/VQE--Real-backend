{
 "cells": [
  {
   "cell_type": "code",
   "execution_count": 1,
   "id": "1833fd61-fed8-4805-8b8f-cf6ffdfaaac3",
   "metadata": {
    "tags": []
   },
   "outputs": [],
   "source": [
    "# Importing standard Qiskit libraries\n",
    "from qiskit import QuantumCircuit, transpile, Aer\n",
    "from qiskit.tools.jupyter import *\n",
    "from qiskit.visualization import *\n",
    "from ibm_quantum_widgets import *\n",
    "\n",
    "# qiskit-ibmq-provider has been deprecated.\n",
    "# Please see the Migration Guides in https://ibm.biz/provider_migration_guide for more detail.\n",
    "from qiskit_ibm_runtime import QiskitRuntimeService, Sampler, Estimator, Session, Options\n",
    "\n",
    "# Loading your IBM Quantum account(s)\n",
    "service = QiskitRuntimeService(channel=\"ibm_quantum\")\n",
    "\n",
    "# Invoke a primitive. For more details see https://docs.quantum-computing.ibm.com/run/primitives\n",
    "# result = Sampler().run(circuits).result()"
   ]
  },
  {
   "cell_type": "code",
   "execution_count": 13,
   "id": "98c23964-c10e-4852-96c0-dcbf8143517b",
   "metadata": {
    "tags": []
   },
   "outputs": [
    {
     "name": "stderr",
     "output_type": "stream",
     "text": [
      "/tmp/ipykernel_777/2312310269.py:43: DeprecationWarning: The class ``qiskit.algorithms.minimum_eigen_solvers.vqe.VQE`` is deprecated as of qiskit-terra 0.24.0. It will be removed no earlier than 3 months after the release date. Instead, use the class ``qiskit.algorithms.minimum_eigensolvers.VQE``. See https://qisk.it/algo_migration for a migration guide.\n",
      "  vqe= VQE(ansatz, optimizer, quantum_instance=backend)\n"
     ]
    },
    {
     "name": "stdout",
     "output_type": "stream",
     "text": [
      "{   'aux_operator_eigenvalues': None,\n",
      "    'cost_function_evals': 49,\n",
      "    'eigenstate': array([ 4.90653893e-17-3.46944695e-17j,  2.74763936e-16-3.02236498e-16j,\n",
      "        1.24900090e-16-1.34398247e-16j,  2.45326947e-17-1.38777878e-17j,\n",
      "        8.83178169e-17-1.70002901e-16j,  9.93763127e-01-3.79775472e-16j,\n",
      "       -1.89665611e-06-9.81284559e-18j, -5.69064928e-17-3.19189120e-16j,\n",
      "        1.14771975e-16+7.28583860e-17j, -4.99429076e-05+3.92553696e-17j,\n",
      "       -1.11511639e-01-1.57829965e-17j,  3.43427144e-17+6.93889390e-17j,\n",
      "        6.86915451e-17+6.93889390e-17j,  0.00000000e+00-7.84416158e-18j,\n",
      "       -9.81305669e-17+2.98484317e-18j,  4.90653893e-18-1.38777878e-17j]),\n",
      "    'eigenvalue': (-1.857275027209684+0j),\n",
      "    'optimal_circuit': None,\n",
      "    'optimal_parameters': {   ParameterVectorElement(t[0]): 1.8966561089365834e-06,\n",
      "                              ParameterVectorElement(t[1]): 4.994290761633485e-05,\n",
      "                              ParameterVectorElement(t[2]): -0.11174404667321236},\n",
      "    'optimal_point': array([ 1.89665611e-06,  4.99429076e-05, -1.11744047e-01]),\n",
      "    'optimal_value': -1.857275027209684,\n",
      "    'optimizer_evals': None,\n",
      "    'optimizer_result': None,\n",
      "    'optimizer_time': 0.3567039966583252}\n"
     ]
    }
   ],
   "source": [
    "from qiskit_nature.units import DistanceUnit\n",
    "from qiskit_nature.second_q.drivers import PySCFDriver\n",
    "from qiskit_nature.second_q.mappers import JordanWignerMapper\n",
    "from qiskit_nature.converters.second_quantization import QubitConverter\n",
    "from qiskit.algorithms import VQE\n",
    "from qiskit.algorithms.optimizers import SPSA, COBYLA\n",
    "from qiskit.primitives import Estimator\n",
    "from qiskit_nature.second_q.circuit.library import HartreeFock, UCCSD\n",
    "\n",
    "### STEP-1: Setting up the Molecular System\n",
    "driver = PySCFDriver(\n",
    "    atom=\"H 0 0 0; H 0 0 0.735\",\n",
    "    basis=\"sto3g\",\n",
    "    charge=0,\n",
    "    spin=0,\n",
    "    unit=DistanceUnit.ANGSTROM)\n",
    "\n",
    "problem = driver.run()\n",
    "\n",
    "### STEP-2: Hamiltonian Setup (Second Quantization)\n",
    "hamiltonian= problem.hamiltonian.second_q_op()\n",
    "\n",
    "### STEP-3: Qubit Mapping\n",
    "qubit_mapper= JordanWignerMapper()\n",
    "qubit_hamiltonian= qubit_mapper.map(hamiltonian)\n",
    "\n",
    "### STEP-4: Initial State Preparation\n",
    "initial_state= HartreeFock(\n",
    "    num_spatial_orbitals= problem.num_spatial_orbitals,\n",
    "    num_particles= problem.num_particles,\n",
    "    qubit_mapper= qubit_mapper)\n",
    "\n",
    "### STEP-5: Ansatz Definition\n",
    "ansatz = UCCSD(\n",
    "    num_spatial_orbitals= problem.num_spatial_orbitals,\n",
    "    num_particles= problem.num_particles,\n",
    "    qubit_mapper= qubit_mapper,\n",
    "    initial_state= initial_state)\n",
    "\n",
    "### STEP-6: VQE Setup\n",
    "optimizer= COBYLA (maxiter=1000)\n",
    "backend= Aer.get_backend(\"statevector_simulator\")\n",
    "vqe= VQE(ansatz, optimizer, quantum_instance=backend)\n",
    "result=vqe.compute_minimum_eigenvalue(qubit_hamiltonian)\n",
    "print(result)"
   ]
  },
  {
   "cell_type": "code",
   "execution_count": 3,
   "id": "0747533a-bf2d-4cc0-95f3-e6de52004d2e",
   "metadata": {
    "tags": []
   },
   "outputs": [
    {
     "name": "stdout",
     "output_type": "stream",
     "text": [
      "Optimal Parameters: [ 1.89665611e-06  4.99429076e-05 -1.11744047e-01]\n"
     ]
    }
   ],
   "source": [
    "optimal_params = result.optimal_point\n",
    "print(\"Optimal Parameters:\", optimal_params)"
   ]
  },
  {
   "cell_type": "markdown",
   "id": "e99943f0-9696-4b8f-a0e9-9e0001e8a0b6",
   "metadata": {},
   "source": [
    "Simulation Of Real Hardware"
   ]
  },
  {
   "cell_type": "code",
   "execution_count": null,
   "id": "d1ff04b5-ebe9-45d2-95be-8b4d821e605e",
   "metadata": {
    "tags": []
   },
   "outputs": [],
   "source": []
  },
  {
   "cell_type": "code",
   "execution_count": null,
   "id": "5799f66f-4736-4aeb-9505-c69b96b4461c",
   "metadata": {},
   "outputs": [],
   "source": [
    "from qiskit_ibm_runtime import Options, Estimator, Session\n",
    "from qiskit_ibm_runtime import QiskitRuntimeService\n",
    "import numpy as np\n",
    "\n",
    "options=Options()\n",
    "options.optimization_level=0\n",
    "options.resilience_level=0\n",
    "service= QiskitRuntimeService()\n",
    "backend= service.get_backend('ibm_osaka')\n",
    "\n",
    "with Session(service=service, backend= backend) as session:\n",
    "    estimator= Estimator(options=options)\n",
    "    cost_func= lambda params:estimator.run(ansatz, qubit_hamiltonian, parameter_values=params).result().values[0]\n",
    "    result= optimizer.minimize(cost_func, x0= np.zeros(ansatz.num_parameters))\n",
    "    print(result)"
   ]
  },
  {
   "cell_type": "code",
   "execution_count": 7,
   "id": "382e1d7e-f8a2-4406-979f-3441bfb52d67",
   "metadata": {
    "tags": []
   },
   "outputs": [
    {
     "data": {
      "text/plain": [
       "<JobStatus.DONE: 'job has successfully run'>"
      ]
     },
     "execution_count": 7,
     "metadata": {},
     "output_type": "execute_result"
    }
   ],
   "source": [
    "job = service.job(\"cp43bnp2zy6g0084j9cg\")\n",
    "job.status()"
   ]
  },
  {
   "cell_type": "code",
   "execution_count": 8,
   "id": "ef1dfaee-2131-4988-af88-10ff91b7e691",
   "metadata": {
    "tags": []
   },
   "outputs": [
    {
     "data": {
      "text/plain": [
       "EstimatorResult(values=array([-1.49445814]), metadata=[{'variance': 0.19888308261667137, 'shots': 4000}])"
      ]
     },
     "execution_count": 8,
     "metadata": {},
     "output_type": "execute_result"
    }
   ],
   "source": [
    "job.result()"
   ]
  },
  {
   "cell_type": "code",
   "execution_count": 12,
   "id": "e64bb3ad-36ee-4277-b0e1-f59fd1f6890d",
   "metadata": {
    "tags": []
   },
   "outputs": [
    {
     "name": "stderr",
     "output_type": "stream",
     "text": [
      "base_primitive._run_primitive:INFO:2023-12-24 16:45:16,876: Submitting job using options {'optimization_level': 1, 'resilience_level': 3, 'max_execution_time': None, 'transpilation': {'skip_transpilation': False, 'initial_layout': None, 'layout_method': None, 'routing_method': None, 'approximation_degree': None, 'optimization_settings': {'level': 1}, 'coupling_map': None, 'basis_gates': None}, 'resilience': {'noise_amplifier': 'TwoQubitAmplifier', 'noise_factors': (1, 3, 5), 'extrapolator': 'LinearExtrapolator', 'level': 3}, 'execution': {'shots': 4000, 'init_qubits': True, 'noise_model': None, 'seed_simulator': None}, 'environment': {'log_level': 'WARNING', 'callback': None, 'job_tags': []}, 'simulator': {'noise_model': None, 'seed_simulator': None, 'coupling_map': None, 'basis_gates': None}}\n"
     ]
    },
    {
     "name": "stdout",
     "output_type": "stream",
     "text": [
      "Traceback \u001b[1;36m(most recent call last)\u001b[0m:\n",
      "\u001b[0m  Cell \u001b[0;32mIn[12], line 11\u001b[0m\n",
      "    result= optimizer.minimize(cost_func, x0= np.zeros(ansatz.num_parameters))\u001b[0m\n",
      "\u001b[0m  File \u001b[0;32m/opt/conda/lib/python3.10/site-packages/qiskit/algorithms/optimizers/scipy_optimizer.py:149\u001b[0m in \u001b[0;35mminimize\u001b[0m\n",
      "    raw_result = minimize(\u001b[0m\n",
      "\u001b[0m  File \u001b[0;32m/opt/conda/lib/python3.10/site-packages/scipy/optimize/_minimize.py:705\u001b[0m in \u001b[0;35mminimize\u001b[0m\n",
      "    res = _minimize_cobyla(fun, x0, args, constraints, callback=callback,\u001b[0m\n",
      "\u001b[0m  File \u001b[0;32m/opt/conda/lib/python3.10/site-packages/scipy/optimize/_cobyla_py.py:34\u001b[0m in \u001b[0;35mwrapper\u001b[0m\n",
      "    return func(*args, **kwargs)\u001b[0m\n",
      "\u001b[0m  File \u001b[0;32m/opt/conda/lib/python3.10/site-packages/scipy/optimize/_cobyla_py.py:273\u001b[0m in \u001b[0;35m_minimize_cobyla\u001b[0m\n",
      "    xopt, info = cobyla.minimize(calcfc, m=m, x=np.copy(x0), rhobeg=rhobeg,\u001b[0m\n",
      "\u001b[0m  File \u001b[0;32m/opt/conda/lib/python3.10/site-packages/scipy/optimize/_cobyla_py.py:261\u001b[0m in \u001b[0;35mcalcfc\u001b[0m\n",
      "    f = fun(np.copy(x), *args)\u001b[0m\n",
      "\u001b[0m  Cell \u001b[0;32mIn[12], line 10\u001b[0m in \u001b[0;35m<lambda>\u001b[0m\n",
      "    cost_func= lambda params:estimator.run(ansatz, qubit_hamiltonian, parameter_values=params).result().values[0]\u001b[0m\n",
      "\u001b[0m  File \u001b[0;32m/opt/conda/lib/python3.10/site-packages/qiskit_ibm_runtime/estimator.py:147\u001b[0m in \u001b[0;35mrun\u001b[0m\n",
      "    return super().run(\u001b[0m\n",
      "\u001b[0m  File \u001b[0;32m/opt/conda/lib/python3.10/site-packages/qiskit/primitives/base/base_estimator.py:188\u001b[0m in \u001b[0;35mrun\u001b[0m\n",
      "    return self._run(\u001b[0m\n",
      "\u001b[0m  File \u001b[0;32m/opt/conda/lib/python3.10/site-packages/qiskit_ibm_runtime/estimator.py:185\u001b[0m in \u001b[0;35m_run\u001b[0m\n",
      "    return self._run_primitive(\u001b[0m\n",
      "\u001b[0m  File \u001b[0;32m/opt/conda/lib/python3.10/site-packages/qiskit_ibm_runtime/base_primitive.py:196\u001b[0m in \u001b[0;35m_run_primitive\u001b[0m\n",
      "    return self._session.run(\u001b[0m\n",
      "\u001b[0m  File \u001b[0;32m/opt/conda/lib/python3.10/site-packages/qiskit_ibm_runtime/session.py:39\u001b[0m in \u001b[0;35m_wrapper\u001b[0m\n",
      "    return func(self, *args, **kwargs)\u001b[0m\n",
      "\u001b[0m  File \u001b[0;32m/opt/conda/lib/python3.10/site-packages/qiskit_ibm_runtime/session.py:180\u001b[0m in \u001b[0;35mrun\u001b[0m\n",
      "    job = self._service.run(\u001b[0m\n",
      "\u001b[1;36m  File \u001b[1;32m/opt/conda/lib/python3.10/site-packages/qiskit_ibm_runtime/qiskit_runtime_service.py:1009\u001b[1;36m in \u001b[1;35mrun\u001b[1;36m\n",
      "\u001b[1;33m    raise IBMRuntimeError(f\"Failed to run program: {ex}\") from None\u001b[1;36m\n",
      "\u001b[1;31mIBMRuntimeError\u001b[0m\u001b[1;31m:\u001b[0m 'Failed to run program: \\'403 Client Error: Forbidden for url: https://api.quantum.ibm.com/runtime/jobs. {\"errors\":[{\"message\":\"Job create exceeds open plan job usage limits\",\"code\":4317,\"solution\":\"Please wait until the beginning of next month to submit more jobs when your quota will reset.\",\"more_info\":\"https://docs.quantum-computing.ibm.com/errors\"}]}\\''\n",
      "\n",
      "Use %tb to get the full traceback.\n"
     ]
    },
    {
     "name": "stderr",
     "output_type": "stream",
     "text": [
      "capi_return is NULL\n",
      "Call-back cb_calcfc_in__cobyla__user__routines failed.\n"
     ]
    },
    {
     "data": {
      "text/html": [
       "\n",
       "<style>\n",
       ".button {\n",
       "  border: none;\n",
       "  color: white;\n",
       "  padding: 4px 8px;\n",
       "  text-align: center;\n",
       "  text-decoration: none;\n",
       "  display: inline-block;\n",
       "  font-size: 12px;\n",
       "  margin: 4px 2px;\n",
       "  transition-duration: 0.2s;\n",
       "  cursor: pointer;\n",
       "}\n",
       ".iqx-button {\n",
       "  background-color: #0f62fe; \n",
       "  color: white; \n",
       "}\n",
       ".iqx-button:hover {\n",
       "  background-color: #0043ce;\n",
       "  color: white;\n",
       "}\n",
       "</style>\n",
       "<a href=\"https://stackoverflow.com/search?q=IBMRuntimeError: Failed to run program: '403 Client Error: Forbidden for url: https://api.quantum.ibm.com/runtime/jobs. {\"errors\":[{\"message\":\"Job create exceeds open plan job usage limits\",\"code\":4317,\"solution\":\"Please wait until the beginning of next month to submit more jobs when your quota will reset.\",\"more_info\":\"https://docs.quantum-computing.ibm.com/errors\"}]}'\" target='_blank'><button class='button iqx-button'>Search for solution online</button></a>\n"
      ],
      "text/plain": [
       "<IPython.core.display.HTML object>"
      ]
     },
     "metadata": {},
     "output_type": "display_data"
    }
   ],
   "source": [
    "options_pec =Options()\n",
    "options_pec.optimization_level=1\n",
    "options_pec.resilience_level=3\n",
    "\n",
    "service= QiskitRuntimeService()\n",
    "backend= service.get_backend('ibm_brisbane')\n",
    "\n",
    "with Session(service=service, backend= backend) as session:\n",
    "    estimator= Estimator(options=options_pec)\n",
    "    cost_func= lambda params:estimator.run(ansatz, qubit_hamiltonian, parameter_values=params).result().values[0]\n",
    "    result= optimizer.minimize(cost_func, x0= np.zeros(ansatz.num_parameters))\n",
    "    print(result)"
   ]
  },
  {
   "cell_type": "code",
   "execution_count": null,
   "id": "bc3bda84-9b6d-4d61-845d-cf39ae067f45",
   "metadata": {},
   "outputs": [],
   "source": []
  },
  {
   "cell_type": "code",
   "execution_count": 5,
   "id": "03837bd4-0244-4529-a1c2-eb9d2c4e67c4",
   "metadata": {
    "tags": []
   },
   "outputs": [
    {
     "data": {
      "text/plain": [
       "[<IBMBackend('ibm_kyoto')>,\n",
       " <IBMBackend('ibm_osaka')>,\n",
       " <IBMBackend('ibmq_qasm_simulator')>,\n",
       " <IBMBackend('simulator_extended_stabilizer')>,\n",
       " <IBMBackend('simulator_mps')>,\n",
       " <IBMBackend('simulator_statevector')>,\n",
       " <IBMBackend('simulator_stabilizer')>,\n",
       " <IBMBackend('ibm_brisbane')>]"
      ]
     },
     "execution_count": 5,
     "metadata": {},
     "output_type": "execute_result"
    }
   ],
   "source": [
    "from qiskit_ibm_runtime import QiskitRuntimeService\n",
    "service = QiskitRuntimeService()\n",
    " \n",
    "service.backends()"
   ]
  },
  {
   "cell_type": "code",
   "execution_count": 7,
   "id": "99441c5c-dd93-47e0-b1c6-084542800744",
   "metadata": {},
   "outputs": [
    {
     "data": {
      "text/plain": [
       "[<IBMBackend('ibm_kyoto')>,\n",
       " <IBMBackend('ibm_osaka')>,\n",
       " <IBMBackend('ibm_brisbane')>]"
      ]
     },
     "execution_count": 7,
     "metadata": {},
     "output_type": "execute_result"
    }
   ],
   "source": [
    "service.backends(simulator=False, operational=True, min_num_qubits=5)"
   ]
  },
  {
   "cell_type": "code",
   "execution_count": 8,
   "id": "17b4560d-2e2d-4305-ad5e-b524a18a75dd",
   "metadata": {},
   "outputs": [
    {
     "data": {
      "text/plain": [
       "<IBMBackend('ibmq_qasm_simulator')>"
      ]
     },
     "execution_count": 8,
     "metadata": {},
     "output_type": "execute_result"
    }
   ],
   "source": [
    "service.least_busy(operational=True, min_num_qubits=5)"
   ]
  },
  {
   "cell_type": "code",
   "execution_count": null,
   "id": "9f10c1a7-0111-46f3-b9d9-d5acc7e883a6",
   "metadata": {},
   "outputs": [],
   "source": []
  }
 ],
 "metadata": {
  "kernelspec": {
   "display_name": "Python 3 (ipykernel)",
   "language": "python",
   "name": "python3"
  },
  "language_info": {
   "codemirror_mode": {
    "name": "ipython",
    "version": 3
   },
   "file_extension": ".py",
   "mimetype": "text/x-python",
   "name": "python",
   "nbconvert_exporter": "python",
   "pygments_lexer": "ipython3",
   "version": "3.10.8"
  },
  "widgets": {
   "application/vnd.jupyter.widget-state+json": {
    "state": {
     "051a1d44fc534b24b94f90ee5bbef198": {
      "model_module": "@jupyter-widgets/base",
      "model_module_version": "2.0.0",
      "model_name": "LayoutModel",
      "state": {
       "width": "145px"
      }
     },
     "16ff31b4f56c485bb16810ab4d41dc3b": {
      "model_module": "@jupyter-widgets/controls",
      "model_module_version": "2.0.0",
      "model_name": "HBoxModel",
      "state": {
       "children": [
        "IPY_MODEL_52cabb42e9234dfc93f9e1b6438f0fae",
        "IPY_MODEL_bc3a1bc52ad8491ea033e8dc37471d2f",
        "IPY_MODEL_cc0174ef3972482e8adfee857e87e97c",
        "IPY_MODEL_e12d3eefdc3d4155ac345517e419146e",
        "IPY_MODEL_f8c170867fcc48f8904dc3866b15908a"
       ],
       "layout": "IPY_MODEL_62164a547692425bbbdee3c087d4fe77"
      }
     },
     "441ffe1d5b7c41ea8ea6ce9df1420244": {
      "model_module": "@jupyter-widgets/base",
      "model_module_version": "2.0.0",
      "model_name": "LayoutModel",
      "state": {
       "margin": "0px 0px 10px 0px"
      }
     },
     "4c5d852d63384afbb2693c0ec8b6093e": {
      "model_module": "@jupyter-widgets/controls",
      "model_module_version": "2.0.0",
      "model_name": "HTMLStyleModel",
      "state": {
       "description_width": "",
       "font_size": null,
       "text_color": null
      }
     },
     "4c6ac6116caa401a816ecdf0e3fcee25": {
      "model_module": "@jupyter-widgets/controls",
      "model_module_version": "2.0.0",
      "model_name": "ButtonModel",
      "state": {
       "button_style": "primary",
       "description": "Clear",
       "layout": "IPY_MODEL_f310f9fa7ec1448c817f767773288c08",
       "style": "IPY_MODEL_bfe5705f72a849a39360c5eb0a2fcd3e",
       "tooltip": null
      }
     },
     "52cabb42e9234dfc93f9e1b6438f0fae": {
      "model_module": "@jupyter-widgets/controls",
      "model_module_version": "2.0.0",
      "model_name": "HTMLModel",
      "state": {
       "layout": "IPY_MODEL_dbcb915fc37248b7b8c55480a07fb3b2",
       "style": "IPY_MODEL_89af6fa7fd284d258e97598cebe51c50",
       "value": "<h5>Job ID</h5>"
      }
     },
     "62164a547692425bbbdee3c087d4fe77": {
      "model_module": "@jupyter-widgets/base",
      "model_module_version": "2.0.0",
      "model_name": "LayoutModel",
      "state": {
       "margin": "0px 0px 0px 37px",
       "width": "600px"
      }
     },
     "6d1aa0a90a0648b1a70f779fc8f3455e": {
      "model_module": "@jupyter-widgets/controls",
      "model_module_version": "2.0.0",
      "model_name": "GridBoxModel",
      "state": {
       "children": [
        "IPY_MODEL_4c6ac6116caa401a816ecdf0e3fcee25"
       ],
       "layout": "IPY_MODEL_c87a735b075f4cbaa201f72bdc5972c9"
      }
     },
     "7afa8da1677d4ab4bba4d61852250fbd": {
      "model_module": "@jupyter-widgets/controls",
      "model_module_version": "2.0.0",
      "model_name": "HTMLStyleModel",
      "state": {
       "description_width": "",
       "font_size": null,
       "text_color": null
      }
     },
     "7fe9cbed46a14872aba7319bca1fa843": {
      "model_module": "@jupyter-widgets/base",
      "model_module_version": "2.0.0",
      "model_name": "LayoutModel",
      "state": {
       "width": "70px"
      }
     },
     "89af6fa7fd284d258e97598cebe51c50": {
      "model_module": "@jupyter-widgets/controls",
      "model_module_version": "2.0.0",
      "model_name": "HTMLStyleModel",
      "state": {
       "description_width": "",
       "font_size": null,
       "text_color": null
      }
     },
     "a5078a3451454a2aa30b35c7c7c9d7b2": {
      "model_module": "@jupyter-widgets/base",
      "model_module_version": "2.0.0",
      "model_name": "LayoutModel",
      "state": {
       "width": "95px"
      }
     },
     "bc3a1bc52ad8491ea033e8dc37471d2f": {
      "model_module": "@jupyter-widgets/controls",
      "model_module_version": "2.0.0",
      "model_name": "HTMLModel",
      "state": {
       "layout": "IPY_MODEL_051a1d44fc534b24b94f90ee5bbef198",
       "style": "IPY_MODEL_7afa8da1677d4ab4bba4d61852250fbd",
       "value": "<h5>Backend</h5>"
      }
     },
     "bc7a47334a9747a089eb875ff492810b": {
      "model_module": "@jupyter-widgets/controls",
      "model_module_version": "2.0.0",
      "model_name": "HTMLModel",
      "state": {
       "layout": "IPY_MODEL_441ffe1d5b7c41ea8ea6ce9df1420244",
       "style": "IPY_MODEL_4c5d852d63384afbb2693c0ec8b6093e",
       "value": "<p style='font-family: IBM Plex Sans, Arial, Helvetica, sans-serif; font-size: 20px; font-weight: medium;'>Circuit Properties</p>"
      }
     },
     "bfe5705f72a849a39360c5eb0a2fcd3e": {
      "model_module": "@jupyter-widgets/controls",
      "model_module_version": "2.0.0",
      "model_name": "ButtonStyleModel",
      "state": {
       "font_family": null,
       "font_size": null,
       "font_style": null,
       "font_variant": null,
       "font_weight": null,
       "text_color": null,
       "text_decoration": null
      }
     },
     "c87a735b075f4cbaa201f72bdc5972c9": {
      "model_module": "@jupyter-widgets/base",
      "model_module_version": "2.0.0",
      "model_name": "LayoutModel",
      "state": {
       "grid_template_areas": "\n                                       \". . . . right \"\n                                        ",
       "grid_template_columns": "20% 20% 20% 20% 20%",
       "width": "100%"
      }
     },
     "cc0174ef3972482e8adfee857e87e97c": {
      "model_module": "@jupyter-widgets/controls",
      "model_module_version": "2.0.0",
      "model_name": "HTMLModel",
      "state": {
       "layout": "IPY_MODEL_a5078a3451454a2aa30b35c7c7c9d7b2",
       "style": "IPY_MODEL_e3faa3c73f6449aaa53083bf01e31916",
       "value": "<h5>Status</h5>"
      }
     },
     "dbcb915fc37248b7b8c55480a07fb3b2": {
      "model_module": "@jupyter-widgets/base",
      "model_module_version": "2.0.0",
      "model_name": "LayoutModel",
      "state": {
       "width": "190px"
      }
     },
     "e12d3eefdc3d4155ac345517e419146e": {
      "model_module": "@jupyter-widgets/controls",
      "model_module_version": "2.0.0",
      "model_name": "HTMLModel",
      "state": {
       "layout": "IPY_MODEL_7fe9cbed46a14872aba7319bca1fa843",
       "style": "IPY_MODEL_eeb45614597e426dae136cf89d927cc4",
       "value": "<h5>Queue</h5>"
      }
     },
     "e3faa3c73f6449aaa53083bf01e31916": {
      "model_module": "@jupyter-widgets/controls",
      "model_module_version": "2.0.0",
      "model_name": "HTMLStyleModel",
      "state": {
       "description_width": "",
       "font_size": null,
       "text_color": null
      }
     },
     "e82178f10a244a718744e4919275ef30": {
      "model_module": "@jupyter-widgets/base",
      "model_module_version": "2.0.0",
      "model_name": "LayoutModel",
      "state": {}
     },
     "eeb45614597e426dae136cf89d927cc4": {
      "model_module": "@jupyter-widgets/controls",
      "model_module_version": "2.0.0",
      "model_name": "HTMLStyleModel",
      "state": {
       "description_width": "",
       "font_size": null,
       "text_color": null
      }
     },
     "f310f9fa7ec1448c817f767773288c08": {
      "model_module": "@jupyter-widgets/base",
      "model_module_version": "2.0.0",
      "model_name": "LayoutModel",
      "state": {
       "grid_area": "right",
       "padding": "0px 0px 0px 0px",
       "width": "70px"
      }
     },
     "f8c170867fcc48f8904dc3866b15908a": {
      "model_module": "@jupyter-widgets/controls",
      "model_module_version": "2.0.0",
      "model_name": "HTMLModel",
      "state": {
       "layout": "IPY_MODEL_e82178f10a244a718744e4919275ef30",
       "style": "IPY_MODEL_fa5ddefdeb594478ad51cd40945a600a",
       "value": "<h5>Message</h5>"
      }
     },
     "fa5ddefdeb594478ad51cd40945a600a": {
      "model_module": "@jupyter-widgets/controls",
      "model_module_version": "2.0.0",
      "model_name": "HTMLStyleModel",
      "state": {
       "description_width": "",
       "font_size": null,
       "text_color": null
      }
     }
    },
    "version_major": 2,
    "version_minor": 0
   }
  }
 },
 "nbformat": 4,
 "nbformat_minor": 5
}
